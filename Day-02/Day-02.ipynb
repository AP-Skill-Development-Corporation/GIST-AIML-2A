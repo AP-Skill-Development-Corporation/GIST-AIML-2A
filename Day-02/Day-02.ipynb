{
 "cells": [
  {
   "cell_type": "markdown",
   "id": "9daf4b33",
   "metadata": {},
   "source": [
    "## Functions:\n",
    "    - To perform a specific task\n",
    "    Syntax:\n",
    "        def function_name(arguments):\n",
    "            //statements\n",
    "            return return_value"
   ]
  },
  {
   "cell_type": "markdown",
   "id": "ebca0af6",
   "metadata": {},
   "source": [
    "## Function Types:\n",
    "    - Builtin\n",
    "    - User Defined Function\n",
    "        => With return_type and with arguments\n",
    "        => With return_type and without arguments\n",
    "        => Without return_type and with arguments\n",
    "        => Without return_type and without arguments"
   ]
  },
  {
   "cell_type": "code",
   "execution_count": 7,
   "id": "1a1b7ce7",
   "metadata": {},
   "outputs": [
    {
     "name": "stdout",
     "output_type": "stream",
     "text": [
      "Enter Subject-1: 45\n",
      "Enter Subject-2: 23\n",
      "Enter Subject-3: 15\n",
      "Enter Subject-4: 56\n",
      "Enter Subject-5: 45\n",
      "Student Marks are: 45 23 15 56 45 \n",
      "Total Marks: 184\n"
     ]
    }
   ],
   "source": [
    "# With return_type and with arguments\n",
    "# Reading => Main\n",
    "# Printing => Main\n",
    "# Logic => Function\n",
    "\n",
    "def student(q):\n",
    "    return sum(q)\n",
    "\n",
    "k = []\n",
    "for i in range(5):\n",
    "    y = int(input(f\"Enter Subject-{i+1}: \"))\n",
    "    k.append(y)\n",
    "print(f\"Student Marks are: \",end=\"\")\n",
    "for j in k:\n",
    "    print(j,end=\" \")\n",
    "print(\"\\nTotal Marks: {}\".format(student(k)))"
   ]
  },
  {
   "cell_type": "code",
   "execution_count": 12,
   "id": "073a4d8f",
   "metadata": {},
   "outputs": [
    {
     "name": "stdout",
     "output_type": "stream",
     "text": [
      "Enter Subject-1: 32\n",
      "Enter Subject-2: 65\n",
      "Enter Subject-3: 8\n",
      "Enter Subject-4: 45\n",
      "Enter Subject-5: 2\n",
      "Student Marks are: 32 65 8 45 2 \n",
      "Total Marks: 152\n"
     ]
    }
   ],
   "source": [
    "# With return_type and without arguments\n",
    "# Reading => function\n",
    "# Printing => Main\n",
    "# Logic => Function\n",
    "\n",
    "def student():\n",
    "    k = []\n",
    "    for i in range(5):\n",
    "        y = int(input(f\"Enter Subject-{i+1}: \"))\n",
    "        k.append(y)\n",
    "    print(f\"Student Marks are: \",end=\"\")\n",
    "    for j in k:\n",
    "        print(j,end=\" \")\n",
    "    return sum(k)\n",
    "\n",
    "print(\"\\nTotal Marks: {}\".format(student()))"
   ]
  },
  {
   "cell_type": "code",
   "execution_count": 3,
   "id": "79901ece",
   "metadata": {},
   "outputs": [
    {
     "name": "stdout",
     "output_type": "stream",
     "text": [
      "Enter Subject-1: 45\n",
      "Enter Subject-2: 12\n",
      "Enter Subject-3: 45\n",
      "Enter Subject-4: 89\n",
      "Enter Subject-5: 45\n",
      "Student Marks are: 45 12 45 89 45 \n",
      "Total Marks: 236\n"
     ]
    }
   ],
   "source": [
    "# Without return_type and with arguments\n",
    "# Reading => Main\n",
    "# Printing => function\n",
    "# Logic => Function\n",
    "\n",
    "def student(q):\n",
    "    print(f\"Student Marks are: \",end=\"\")\n",
    "    for j in q:\n",
    "        print(j,end=\" \")\n",
    "    print(\"\\nTotal Marks: {}\".format(sum(q)))\n",
    "    return\n",
    "    \n",
    "\n",
    "k = []\n",
    "for i in range(5):\n",
    "    y = int(input(f\"Enter Subject-{i+1}: \"))\n",
    "    k.append(y)\n",
    "student(k)"
   ]
  },
  {
   "cell_type": "code",
   "execution_count": 4,
   "id": "aa4689f6",
   "metadata": {},
   "outputs": [
    {
     "name": "stdout",
     "output_type": "stream",
     "text": [
      "Enter Subject-1: 25\n",
      "Enter Subject-2: 30\n",
      "Enter Subject-3: 40\n",
      "Enter Subject-4: 50\n",
      "Enter Subject-5: 60\n",
      "Student Marks are: 25 30 40 50 60 \n",
      "Total Marks: 205\n"
     ]
    }
   ],
   "source": [
    "# Without return_type and without arguments\n",
    "# Reading => function\n",
    "# Printing => function\n",
    "# Logic => Function\n",
    "\n",
    "def student():\n",
    "    k = []\n",
    "    for i in range(5):\n",
    "        y = int(input(f\"Enter Subject-{i+1}: \"))\n",
    "        k.append(y)\n",
    "    print(f\"Student Marks are: \",end=\"\")\n",
    "    for j in k:\n",
    "        print(j,end=\" \")\n",
    "    print(\"\\nTotal Marks: {}\".format(sum(k)))\n",
    "    \n",
    "student()"
   ]
  },
  {
   "cell_type": "markdown",
   "id": "1eedeab5",
   "metadata": {},
   "source": [
    "## Function Argument Types:\n",
    "    - Default\n",
    "    - Required or Positional\n",
    "    - Keyword\n",
    "    - Variable Length [Arbitary]\n",
    "        - Arbitary Keyword\n",
    "        - Arbitary Positional"
   ]
  },
  {
   "cell_type": "code",
   "execution_count": 6,
   "id": "deb6e289",
   "metadata": {},
   "outputs": [
    {
     "name": "stdout",
     "output_type": "stream",
     "text": [
      "Enter Employee Id: TCS45\n",
      "Enter Employee Name: Prasad\n",
      "Enter Employee Salary: 35000.00\n",
      "----------TCS Company Employee Details----------\n",
      "Employee Name: Prasad\n",
      "Employee Id: TCS45\n",
      "Employee Salary: 35000.0\n",
      "Employee Company: TCS\n"
     ]
    }
   ],
   "source": [
    "# Default Argument\n",
    "\n",
    "def employee(i,n,s,c=\"TCS\"):\n",
    "    print(\"--\"*5+f\"{c} Company Employee Details\"+\"--\"*5)\n",
    "    print(f\"Employee Name: {n}\")\n",
    "    print(f\"Employee Id: {i}\")\n",
    "    print(f\"Employee Salary: {s}\")\n",
    "    print(f\"Employee Company: {c}\")\n",
    "    return\n",
    "\n",
    "eid = input(\"Enter Employee Id: \")\n",
    "ename = input(\"Enter Employee Name: \")\n",
    "esal = float(input(\"Enter Employee Salary: \"))\n",
    "employee(eid,ename,esal)"
   ]
  },
  {
   "cell_type": "code",
   "execution_count": 7,
   "id": "99edf1bf",
   "metadata": {},
   "outputs": [
    {
     "ename": "SyntaxError",
     "evalue": "non-default argument follows default argument (1356706478.py, line 3)",
     "output_type": "error",
     "traceback": [
      "\u001b[1;36m  Cell \u001b[1;32mIn[7], line 3\u001b[1;36m\u001b[0m\n\u001b[1;33m    def employee(i,n,s=2500.12,c):\u001b[0m\n\u001b[1;37m                                ^\u001b[0m\n\u001b[1;31mSyntaxError\u001b[0m\u001b[1;31m:\u001b[0m non-default argument follows default argument\n"
     ]
    }
   ],
   "source": [
    "# Default Argument\n",
    "\n",
    "def employee(i,n,s=2500.12,c):\n",
    "    print(\"--\"*5+f\"{c} Company Employee Details\"+\"--\"*5)\n",
    "    print(f\"Employee Name: {n}\")\n",
    "    print(f\"Employee Id: {i}\")\n",
    "    print(f\"Employee Salary: {s}\")\n",
    "    print(f\"Employee Company: {c}\")\n",
    "    return\n",
    "\n",
    "eid = input(\"Enter Employee Id: \")\n",
    "ename = input(\"Enter Employee Name: \")\n",
    "ecmpy = input(\"Enter Employee Company: \")\n",
    "employee(eid,ename,ecmpy)"
   ]
  },
  {
   "cell_type": "code",
   "execution_count": 8,
   "id": "b8b672db",
   "metadata": {},
   "outputs": [
    {
     "name": "stdout",
     "output_type": "stream",
     "text": [
      "Enter Employee Id: IN452\n",
      "Enter Employee Name: Lalitha\n",
      "Enter Employee Company: TCS\n",
      "----------Infosys Company Employee Details----------\n",
      "Employee Name: Lalitha\n",
      "Employee Id: IN452\n",
      "Employee Salary: TCS\n",
      "Employee Company: Infosys\n"
     ]
    }
   ],
   "source": [
    "# Default Argument\n",
    "\n",
    "def employee(i,n,s=2500.12,c=\"Infosys\"):\n",
    "    print(\"--\"*5+f\"{c} Company Employee Details\"+\"--\"*5)\n",
    "    print(f\"Employee Name: {n}\")\n",
    "    print(f\"Employee Id: {i}\")\n",
    "    print(f\"Employee Salary: {s}\")\n",
    "    print(f\"Employee Company: {c}\")\n",
    "    return\n",
    "\n",
    "eid = input(\"Enter Employee Id: \")\n",
    "ename = input(\"Enter Employee Name: \")\n",
    "ecmpy = input(\"Enter Employee Company: \")\n",
    "employee(eid,ename,ecmpy)"
   ]
  },
  {
   "cell_type": "code",
   "execution_count": 9,
   "id": "b7883e7a",
   "metadata": {},
   "outputs": [
    {
     "name": "stdout",
     "output_type": "stream",
     "text": [
      "Enter Employee Id: PY456\n",
      "Enter Employee Name: Kalyan\n",
      "Enter Employee Salary: 35000.00\n",
      "Enter Employee Company: TCS\n",
      "----------TCS Company Employee Details----------\n",
      "Employee Name: Kalyan\n",
      "Employee Id: PY456\n",
      "Employee Salary: 35000.0\n",
      "Employee Company: TCS\n"
     ]
    }
   ],
   "source": [
    "# Default Argument\n",
    "\n",
    "def employee(i,n,s=2500.12,c=\"Infosys\"):\n",
    "    print(\"--\"*5+f\"{c} Company Employee Details\"+\"--\"*5)\n",
    "    print(f\"Employee Name: {n}\")\n",
    "    print(f\"Employee Id: {i}\")\n",
    "    print(f\"Employee Salary: {s}\")\n",
    "    print(f\"Employee Company: {c}\")\n",
    "    return\n",
    "\n",
    "eid = input(\"Enter Employee Id: \")\n",
    "ename = input(\"Enter Employee Name: \")\n",
    "esal = float(input(\"Enter Employee Salary: \"))\n",
    "ecmpy = input(\"Enter Employee Company: \")\n",
    "employee(eid,ename,esal,ecmpy)"
   ]
  },
  {
   "cell_type": "code",
   "execution_count": 10,
   "id": "1b72b737",
   "metadata": {},
   "outputs": [
    {
     "name": "stdout",
     "output_type": "stream",
     "text": [
      "Enter Employee Id: KY90\n",
      "Enter Employee Name: Manjula\n",
      "----------Infosys Company Employee Details----------\n",
      "Employee Name: Manjula\n",
      "Employee Id: KY90\n",
      "Employee Salary: 2500.12\n",
      "Employee Company: Infosys\n"
     ]
    }
   ],
   "source": [
    "# Default Argument\n",
    "\n",
    "def employee(i,n,s=2500.12,c=\"Infosys\"):\n",
    "    print(\"--\"*5+f\"{c} Company Employee Details\"+\"--\"*5)\n",
    "    print(f\"Employee Name: {n}\")\n",
    "    print(f\"Employee Id: {i}\")\n",
    "    print(f\"Employee Salary: {s}\")\n",
    "    print(f\"Employee Company: {c}\")\n",
    "    return\n",
    "\n",
    "eid = input(\"Enter Employee Id: \")\n",
    "ename = input(\"Enter Employee Name: \")\n",
    "employee(eid,ename)"
   ]
  },
  {
   "cell_type": "code",
   "execution_count": 11,
   "id": "c00f3aef",
   "metadata": {},
   "outputs": [
    {
     "name": "stdout",
     "output_type": "stream",
     "text": [
      "Enter Student Id: 4578\n",
      "Enter Student Name: Lokesh\n",
      "Enter Student Branch: AIML\n",
      "Student Details:\n",
      "Id: 4578\n",
      "Name: Lokesh\n",
      "Branch: AIML\n"
     ]
    }
   ],
   "source": [
    "# Required Argument\n",
    "\n",
    "def student(d,na,bc):\n",
    "    print(\"Student Details:\")\n",
    "    print(f\"Id: {d}\")\n",
    "    print(f\"Name: {na}\")\n",
    "    print(f\"Branch: {bc}\")\n",
    "    return\n",
    "\n",
    "stid = input(\"Enter Student Id: \")\n",
    "stname = input(\"Enter Student Name: \")\n",
    "sbrch = input(\"Enter Student Branch: \")\n",
    "student(stid,stname,sbrch)"
   ]
  },
  {
   "cell_type": "code",
   "execution_count": 12,
   "id": "795fe31c",
   "metadata": {},
   "outputs": [
    {
     "name": "stdout",
     "output_type": "stream",
     "text": [
      "Enter Student Id: 457\n",
      "Enter Student Name: Prasanna\n",
      "Enter Student Branch: CSE\n"
     ]
    },
    {
     "ename": "TypeError",
     "evalue": "student() missing 1 required positional argument: 'cg'",
     "output_type": "error",
     "traceback": [
      "\u001b[1;31m---------------------------------------------------------------------------\u001b[0m",
      "\u001b[1;31mTypeError\u001b[0m                                 Traceback (most recent call last)",
      "Cell \u001b[1;32mIn[12], line 14\u001b[0m\n\u001b[0;32m     12\u001b[0m stname \u001b[38;5;241m=\u001b[39m \u001b[38;5;28minput\u001b[39m(\u001b[38;5;124m\"\u001b[39m\u001b[38;5;124mEnter Student Name: \u001b[39m\u001b[38;5;124m\"\u001b[39m)\n\u001b[0;32m     13\u001b[0m sbrch \u001b[38;5;241m=\u001b[39m \u001b[38;5;28minput\u001b[39m(\u001b[38;5;124m\"\u001b[39m\u001b[38;5;124mEnter Student Branch: \u001b[39m\u001b[38;5;124m\"\u001b[39m)\n\u001b[1;32m---> 14\u001b[0m \u001b[43mstudent\u001b[49m\u001b[43m(\u001b[49m\u001b[43mstid\u001b[49m\u001b[43m,\u001b[49m\u001b[43mstname\u001b[49m\u001b[43m,\u001b[49m\u001b[43msbrch\u001b[49m\u001b[43m)\u001b[49m\n",
      "\u001b[1;31mTypeError\u001b[0m: student() missing 1 required positional argument: 'cg'"
     ]
    }
   ],
   "source": [
    "# Required Argument\n",
    "\n",
    "def student(d,na,bc,cg):\n",
    "    print(\"Student Details:\")\n",
    "    print(f\"Id: {d}\")\n",
    "    print(f\"Name: {na}\")\n",
    "    print(f\"Branch: {bc}\")\n",
    "    print(f\"College Name: {cg}\")\n",
    "    return\n",
    "\n",
    "stid = input(\"Enter Student Id: \")\n",
    "stname = input(\"Enter Student Name: \")\n",
    "sbrch = input(\"Enter Student Branch: \")\n",
    "student(stid,stname,sbrch)"
   ]
  },
  {
   "cell_type": "code",
   "execution_count": 13,
   "id": "b0a0a531",
   "metadata": {},
   "outputs": [
    {
     "name": "stdout",
     "output_type": "stream",
     "text": [
      "Enter Student Id: 23545\n",
      "Enter Student Name: Lavanya\n",
      "Enter Student Branch: EEE\n",
      "Student Details:\n",
      "Id: 23545\n",
      "Name: Lavanya\n",
      "Branch: EEE\n",
      "College Name: GIST\n"
     ]
    }
   ],
   "source": [
    "# Required Argument\n",
    "\n",
    "def student(d,na,bc,cg=\"GIST\"):\n",
    "    print(\"Student Details:\")\n",
    "    print(f\"Id: {d}\")\n",
    "    print(f\"Name: {na}\")\n",
    "    print(f\"Branch: {bc}\")\n",
    "    print(f\"College Name: {cg}\")\n",
    "    return\n",
    "\n",
    "stid = input(\"Enter Student Id: \")\n",
    "stname = input(\"Enter Student Name: \")\n",
    "sbrch = input(\"Enter Student Branch: \")\n",
    "student(stid,stname,sbrch)"
   ]
  },
  {
   "cell_type": "code",
   "execution_count": 14,
   "id": "12039790",
   "metadata": {},
   "outputs": [
    {
     "name": "stdout",
     "output_type": "stream",
     "text": [
      "Enter Student Id: 4564\n",
      "Enter Student Name: Varun\n",
      "Enter Student Branch: ECE\n"
     ]
    },
    {
     "ename": "TypeError",
     "evalue": "student() takes 2 positional arguments but 3 were given",
     "output_type": "error",
     "traceback": [
      "\u001b[1;31m---------------------------------------------------------------------------\u001b[0m",
      "\u001b[1;31mTypeError\u001b[0m                                 Traceback (most recent call last)",
      "Cell \u001b[1;32mIn[14], line 12\u001b[0m\n\u001b[0;32m     10\u001b[0m stname \u001b[38;5;241m=\u001b[39m \u001b[38;5;28minput\u001b[39m(\u001b[38;5;124m\"\u001b[39m\u001b[38;5;124mEnter Student Name: \u001b[39m\u001b[38;5;124m\"\u001b[39m)\n\u001b[0;32m     11\u001b[0m sbrch \u001b[38;5;241m=\u001b[39m \u001b[38;5;28minput\u001b[39m(\u001b[38;5;124m\"\u001b[39m\u001b[38;5;124mEnter Student Branch: \u001b[39m\u001b[38;5;124m\"\u001b[39m)\n\u001b[1;32m---> 12\u001b[0m \u001b[43mstudent\u001b[49m\u001b[43m(\u001b[49m\u001b[43mstid\u001b[49m\u001b[43m,\u001b[49m\u001b[43mstname\u001b[49m\u001b[43m,\u001b[49m\u001b[43msbrch\u001b[49m\u001b[43m)\u001b[49m\n",
      "\u001b[1;31mTypeError\u001b[0m: student() takes 2 positional arguments but 3 were given"
     ]
    }
   ],
   "source": [
    "# Required Argument\n",
    "\n",
    "def student(d,na):\n",
    "    print(\"Student Details:\")\n",
    "    print(f\"Id: {d}\")\n",
    "    print(f\"Name: {na}\")\n",
    "    return\n",
    "\n",
    "stid = input(\"Enter Student Id: \")\n",
    "stname = input(\"Enter Student Name: \")\n",
    "sbrch = input(\"Enter Student Branch: \")\n",
    "student(stid,stname,sbrch)"
   ]
  },
  {
   "cell_type": "code",
   "execution_count": 15,
   "id": "c33c6b94",
   "metadata": {},
   "outputs": [
    {
     "name": "stdout",
     "output_type": "stream",
     "text": [
      "Enter Student Id: 468\n",
      "Enter Student Name: Kiran\n",
      "Enter Student Branch: CIVIL\n",
      "Enter College Name: SRK\n",
      "Student Details:\n",
      "Id: Kiran\n",
      "Name: CIVIL\n",
      "Branch: SRK\n",
      "College Name: 468\n"
     ]
    }
   ],
   "source": [
    "# Required Argument\n",
    "\n",
    "def student(cg,d,na,bc):\n",
    "    print(\"Student Details:\")\n",
    "    print(f\"Id: {d}\")\n",
    "    print(f\"Name: {na}\")\n",
    "    print(f\"Branch: {bc}\")\n",
    "    print(f\"College Name: {cg}\")\n",
    "    return\n",
    "\n",
    "stid = input(\"Enter Student Id: \")\n",
    "stname = input(\"Enter Student Name: \")\n",
    "sbrch = input(\"Enter Student Branch: \")\n",
    "scg = input(\"Enter College Name: \")\n",
    "student(stid,stname,sbrch,scg)"
   ]
  },
  {
   "cell_type": "code",
   "execution_count": 17,
   "id": "5565d2f3",
   "metadata": {},
   "outputs": [
    {
     "name": "stdout",
     "output_type": "stream",
     "text": [
      "Enter Employee Name: Lokesh\n",
      "Enter Employee Age: 35\n",
      "Enter Employee Salary: 45000.00\n",
      "Employee Details\n",
      "Employee Age: 35\n",
      "Employee Name: Lokesh\n",
      "Employee Salary: 45000.0\n"
     ]
    }
   ],
   "source": [
    "# Keyword Argument\n",
    "\n",
    "def emp(b,a,c):\n",
    "    print(\"Employee Details\")\n",
    "    print(f\"Employee Age: {a}\")\n",
    "    print(f\"Employee Name: {b}\")\n",
    "    print(f\"Employee Salary: {c}\")\n",
    "    return\n",
    "\n",
    "ename = input(\"Enter Employee Name: \")\n",
    "eage = int(input(\"Enter Employee Age: \"))\n",
    "esal = float(input(\"Enter Employee Salary: \"))\n",
    "emp(b=ename,a=eage,c=esal)"
   ]
  },
  {
   "cell_type": "code",
   "execution_count": 18,
   "id": "facf5709",
   "metadata": {},
   "outputs": [
    {
     "ename": "SyntaxError",
     "evalue": "non-default argument follows default argument (1409205870.py, line 1)",
     "output_type": "error",
     "traceback": [
      "\u001b[1;36m  Cell \u001b[1;32mIn[18], line 1\u001b[1;36m\u001b[0m\n\u001b[1;33m    def emp(h=\"Microsoft\",b,a,c):\u001b[0m\n\u001b[1;37m                            ^\u001b[0m\n\u001b[1;31mSyntaxError\u001b[0m\u001b[1;31m:\u001b[0m non-default argument follows default argument\n"
     ]
    }
   ],
   "source": [
    "def emp(h=\"Microsoft\",b,a,c):\n",
    "    print(f\"Company Name: {h}\")\n",
    "    print(\"Employee Details\")\n",
    "    print(f\"Employee Age: {a}\")\n",
    "    print(f\"Employee Name: {b}\")\n",
    "    print(f\"Employee Salary: {c}\")\n",
    "    return\n",
    "\n",
    "ename = input(\"Enter Employee Name: \")\n",
    "eage = int(input(\"Enter Employee Age: \"))\n",
    "esal = float(input(\"Enter Employee Salary: \"))\n",
    "emp(b=ename,a=eage,c=esal)"
   ]
  },
  {
   "cell_type": "code",
   "execution_count": 19,
   "id": "de6e7c94",
   "metadata": {},
   "outputs": [
    {
     "name": "stdout",
     "output_type": "stream",
     "text": [
      "Enter Employee Name: Eswar\n",
      "Enter Employee Age: 56\n",
      "Enter Employee Salary: 8900.00\n",
      "Company Name: Microsoft\n",
      "Employee Details\n",
      "Employee Age: 56\n",
      "Employee Name: Eswar\n",
      "Employee Salary: 8900.0\n"
     ]
    }
   ],
   "source": [
    "def emp(b,a,c,h=\"Microsoft\"):\n",
    "    print(f\"Company Name: {h}\")\n",
    "    print(\"Employee Details\")\n",
    "    print(f\"Employee Age: {a}\")\n",
    "    print(f\"Employee Name: {b}\")\n",
    "    print(f\"Employee Salary: {c}\")\n",
    "    return\n",
    "\n",
    "ename = input(\"Enter Employee Name: \")\n",
    "eage = int(input(\"Enter Employee Age: \"))\n",
    "esal = float(input(\"Enter Employee Salary: \"))\n",
    "emp(b=ename,a=eage,c=esal)"
   ]
  },
  {
   "cell_type": "code",
   "execution_count": 20,
   "id": "b48c192c",
   "metadata": {},
   "outputs": [
    {
     "ename": "SyntaxError",
     "evalue": "positional argument follows keyword argument (3509195530.py, line 13)",
     "output_type": "error",
     "traceback": [
      "\u001b[1;36m  Cell \u001b[1;32mIn[20], line 13\u001b[1;36m\u001b[0m\n\u001b[1;33m    emp(b=ename,a=eage,c=esal,eid)\u001b[0m\n\u001b[1;37m                                 ^\u001b[0m\n\u001b[1;31mSyntaxError\u001b[0m\u001b[1;31m:\u001b[0m positional argument follows keyword argument\n"
     ]
    }
   ],
   "source": [
    "def emp(b,a,c,g,h=\"Microsoft\"):\n",
    "    print(f\"Company Name: {h}\")\n",
    "    print(\"Employee Details\")\n",
    "    print(f\"Employee Age: {a}\")\n",
    "    print(f\"Employee Name: {b}\")\n",
    "    print(f\"Employee Salary: {c}\")\n",
    "    return\n",
    "\n",
    "ename = input(\"Enter Employee Name: \")\n",
    "eage = int(input(\"Enter Employee Age: \"))\n",
    "esal = float(input(\"Enter Employee Salary: \"))\n",
    "eid = input(\"Employee Id: \")\n",
    "emp(b=ename,a=eage,c=esal,eid)"
   ]
  },
  {
   "cell_type": "code",
   "execution_count": 21,
   "id": "b3a594e3",
   "metadata": {},
   "outputs": [
    {
     "name": "stdout",
     "output_type": "stream",
     "text": [
      "Kamala <class 'str'>\n",
      "(45, 89, 56, 78, 12) <class 'tuple'>\n",
      "{'cricket': 'Ramesh', 'city': 'Vijayawada'} <class 'dict'>\n"
     ]
    }
   ],
   "source": [
    "# Variable Length\n",
    "\n",
    "def std(r,*p,**h):\n",
    "    print(r,type(r))\n",
    "    print(p,type(p))\n",
    "    print(h,type(h))\n",
    "    return\n",
    "\n",
    "std(\"Kamala\",45,89,56,78,12,cricket=\"Ramesh\",city=\"Vijayawada\")"
   ]
  },
  {
   "cell_type": "code",
   "execution_count": 22,
   "id": "5371f46b",
   "metadata": {},
   "outputs": [
    {
     "ename": "SyntaxError",
     "evalue": "positional argument follows keyword argument (4266186633.py, line 7)",
     "output_type": "error",
     "traceback": [
      "\u001b[1;36m  Cell \u001b[1;32mIn[22], line 7\u001b[1;36m\u001b[0m\n\u001b[1;33m    std(\"Kamala\",45,89,56,78,12,cricket=\"Ramesh\",city=\"Vijayawada\",45)\u001b[0m\n\u001b[1;37m                                                                     ^\u001b[0m\n\u001b[1;31mSyntaxError\u001b[0m\u001b[1;31m:\u001b[0m positional argument follows keyword argument\n"
     ]
    }
   ],
   "source": [
    "def std(r,*p,**h):\n",
    "    print(r,type(r))\n",
    "    print(p,type(p))\n",
    "    print(h,type(h))\n",
    "    return\n",
    "\n",
    "std(\"Kamala\",45,89,56,78,12,cricket=\"Ramesh\",city=\"Vijayawada\",45)"
   ]
  },
  {
   "cell_type": "code",
   "execution_count": 23,
   "id": "33c6378e",
   "metadata": {},
   "outputs": [
    {
     "ename": "TypeError",
     "evalue": "std() got an unexpected keyword argument 'cricket'",
     "output_type": "error",
     "traceback": [
      "\u001b[1;31m---------------------------------------------------------------------------\u001b[0m",
      "\u001b[1;31mTypeError\u001b[0m                                 Traceback (most recent call last)",
      "Cell \u001b[1;32mIn[23], line 6\u001b[0m\n\u001b[0;32m      3\u001b[0m     \u001b[38;5;28mprint\u001b[39m(p,\u001b[38;5;28mtype\u001b[39m(p))\n\u001b[0;32m      4\u001b[0m     \u001b[38;5;28;01mreturn\u001b[39;00m\n\u001b[1;32m----> 6\u001b[0m \u001b[43mstd\u001b[49m\u001b[43m(\u001b[49m\u001b[38;5;124;43m\"\u001b[39;49m\u001b[38;5;124;43mKamala\u001b[39;49m\u001b[38;5;124;43m\"\u001b[39;49m\u001b[43m,\u001b[49m\u001b[38;5;241;43m45\u001b[39;49m\u001b[43m,\u001b[49m\u001b[38;5;241;43m89\u001b[39;49m\u001b[43m,\u001b[49m\u001b[38;5;241;43m56\u001b[39;49m\u001b[43m,\u001b[49m\u001b[38;5;241;43m78\u001b[39;49m\u001b[43m,\u001b[49m\u001b[38;5;241;43m12\u001b[39;49m\u001b[43m,\u001b[49m\u001b[43mcricket\u001b[49m\u001b[38;5;241;43m=\u001b[39;49m\u001b[38;5;124;43m\"\u001b[39;49m\u001b[38;5;124;43mRamesh\u001b[39;49m\u001b[38;5;124;43m\"\u001b[39;49m\u001b[43m,\u001b[49m\u001b[43mcity\u001b[49m\u001b[38;5;241;43m=\u001b[39;49m\u001b[38;5;124;43m\"\u001b[39;49m\u001b[38;5;124;43mVijayawada\u001b[39;49m\u001b[38;5;124;43m\"\u001b[39;49m\u001b[43m)\u001b[49m\n",
      "\u001b[1;31mTypeError\u001b[0m: std() got an unexpected keyword argument 'cricket'"
     ]
    }
   ],
   "source": [
    "def std(r,*p):\n",
    "    print(r,type(r))\n",
    "    print(p,type(p))\n",
    "    return\n",
    "\n",
    "std(\"Kamala\",45,89,56,78,12,cricket=\"Ramesh\",city=\"Vijayawada\")"
   ]
  },
  {
   "cell_type": "markdown",
   "id": "58b47dc4",
   "metadata": {},
   "source": [
    "## Packages and Modules:\n",
    "    Package:\n",
    "        - Collection of Sub packages and modules\n",
    "    \n",
    "    Modules:\n",
    "        - Collection of variables, functions, class and methods\n",
    "        "
   ]
  },
  {
   "cell_type": "code",
   "execution_count": 24,
   "id": "2cca665e",
   "metadata": {},
   "outputs": [],
   "source": [
    "import sample"
   ]
  },
  {
   "cell_type": "code",
   "execution_count": 25,
   "id": "fa569e41",
   "metadata": {},
   "outputs": [
    {
     "name": "stdout",
     "output_type": "stream",
     "text": [
      "['__add__', '__class__', '__class_getitem__', '__contains__', '__delattr__', '__delitem__', '__dir__', '__doc__', '__eq__', '__format__', '__ge__', '__getattribute__', '__getitem__', '__gt__', '__hash__', '__iadd__', '__imul__', '__init__', '__init_subclass__', '__iter__', '__le__', '__len__', '__lt__', '__mul__', '__ne__', '__new__', '__reduce__', '__reduce_ex__', '__repr__', '__reversed__', '__rmul__', '__setattr__', '__setitem__', '__sizeof__', '__str__', '__subclasshook__', 'append', 'clear', 'copy', 'count', 'extend', 'index', 'insert', 'pop', 'remove', 'reverse', 'sort']\n"
     ]
    }
   ],
   "source": [
    "z = []\n",
    "print(dir(z))"
   ]
  },
  {
   "cell_type": "code",
   "execution_count": 27,
   "id": "ce4a89d9",
   "metadata": {},
   "outputs": [
    {
     "name": "stdout",
     "output_type": "stream",
     "text": [
      "Help on list object:\n",
      "\n",
      "class list(object)\n",
      " |  list(iterable=(), /)\n",
      " |  \n",
      " |  Built-in mutable sequence.\n",
      " |  \n",
      " |  If no argument is given, the constructor creates a new empty list.\n",
      " |  The argument must be an iterable if specified.\n",
      " |  \n",
      " |  Methods defined here:\n",
      " |  \n",
      " |  __add__(self, value, /)\n",
      " |      Return self+value.\n",
      " |  \n",
      " |  __contains__(self, key, /)\n",
      " |      Return key in self.\n",
      " |  \n",
      " |  __delitem__(self, key, /)\n",
      " |      Delete self[key].\n",
      " |  \n",
      " |  __eq__(self, value, /)\n",
      " |      Return self==value.\n",
      " |  \n",
      " |  __ge__(self, value, /)\n",
      " |      Return self>=value.\n",
      " |  \n",
      " |  __getattribute__(self, name, /)\n",
      " |      Return getattr(self, name).\n",
      " |  \n",
      " |  __getitem__(...)\n",
      " |      x.__getitem__(y) <==> x[y]\n",
      " |  \n",
      " |  __gt__(self, value, /)\n",
      " |      Return self>value.\n",
      " |  \n",
      " |  __iadd__(self, value, /)\n",
      " |      Implement self+=value.\n",
      " |  \n",
      " |  __imul__(self, value, /)\n",
      " |      Implement self*=value.\n",
      " |  \n",
      " |  __init__(self, /, *args, **kwargs)\n",
      " |      Initialize self.  See help(type(self)) for accurate signature.\n",
      " |  \n",
      " |  __iter__(self, /)\n",
      " |      Implement iter(self).\n",
      " |  \n",
      " |  __le__(self, value, /)\n",
      " |      Return self<=value.\n",
      " |  \n",
      " |  __len__(self, /)\n",
      " |      Return len(self).\n",
      " |  \n",
      " |  __lt__(self, value, /)\n",
      " |      Return self<value.\n",
      " |  \n",
      " |  __mul__(self, value, /)\n",
      " |      Return self*value.\n",
      " |  \n",
      " |  __ne__(self, value, /)\n",
      " |      Return self!=value.\n",
      " |  \n",
      " |  __repr__(self, /)\n",
      " |      Return repr(self).\n",
      " |  \n",
      " |  __reversed__(self, /)\n",
      " |      Return a reverse iterator over the list.\n",
      " |  \n",
      " |  __rmul__(self, value, /)\n",
      " |      Return value*self.\n",
      " |  \n",
      " |  __setitem__(self, key, value, /)\n",
      " |      Set self[key] to value.\n",
      " |  \n",
      " |  __sizeof__(self, /)\n",
      " |      Return the size of the list in memory, in bytes.\n",
      " |  \n",
      " |  append(self, object, /)\n",
      " |      Append object to the end of the list.\n",
      " |  \n",
      " |  clear(self, /)\n",
      " |      Remove all items from list.\n",
      " |  \n",
      " |  copy(self, /)\n",
      " |      Return a shallow copy of the list.\n",
      " |  \n",
      " |  count(self, value, /)\n",
      " |      Return number of occurrences of value.\n",
      " |  \n",
      " |  extend(self, iterable, /)\n",
      " |      Extend list by appending elements from the iterable.\n",
      " |  \n",
      " |  index(self, value, start=0, stop=9223372036854775807, /)\n",
      " |      Return first index of value.\n",
      " |      \n",
      " |      Raises ValueError if the value is not present.\n",
      " |  \n",
      " |  insert(self, index, object, /)\n",
      " |      Insert object before index.\n",
      " |  \n",
      " |  pop(self, index=-1, /)\n",
      " |      Remove and return item at index (default last).\n",
      " |      \n",
      " |      Raises IndexError if list is empty or index is out of range.\n",
      " |  \n",
      " |  remove(self, value, /)\n",
      " |      Remove first occurrence of value.\n",
      " |      \n",
      " |      Raises ValueError if the value is not present.\n",
      " |  \n",
      " |  reverse(self, /)\n",
      " |      Reverse *IN PLACE*.\n",
      " |  \n",
      " |  sort(self, /, *, key=None, reverse=False)\n",
      " |      Sort the list in ascending order and return None.\n",
      " |      \n",
      " |      The sort is in-place (i.e. the list itself is modified) and stable (i.e. the\n",
      " |      order of two equal elements is maintained).\n",
      " |      \n",
      " |      If a key function is given, apply it once to each list item and sort them,\n",
      " |      ascending or descending, according to their function values.\n",
      " |      \n",
      " |      The reverse flag can be set to sort in descending order.\n",
      " |  \n",
      " |  ----------------------------------------------------------------------\n",
      " |  Class methods defined here:\n",
      " |  \n",
      " |  __class_getitem__(...) from builtins.type\n",
      " |      See PEP 585\n",
      " |  \n",
      " |  ----------------------------------------------------------------------\n",
      " |  Static methods defined here:\n",
      " |  \n",
      " |  __new__(*args, **kwargs) from builtins.type\n",
      " |      Create and return a new object.  See help(type) for accurate signature.\n",
      " |  \n",
      " |  ----------------------------------------------------------------------\n",
      " |  Data and other attributes defined here:\n",
      " |  \n",
      " |  __hash__ = None\n",
      "\n",
      "None\n"
     ]
    }
   ],
   "source": [
    "print(help(z))"
   ]
  },
  {
   "cell_type": "code",
   "execution_count": 28,
   "id": "a0a9b35d",
   "metadata": {},
   "outputs": [
    {
     "name": "stdout",
     "output_type": "stream",
     "text": [
      "['__builtins__', '__cached__', '__doc__', '__file__', '__loader__', '__name__', '__package__', '__spec__', 'g']\n"
     ]
    }
   ],
   "source": [
    "print(dir(sample))"
   ]
  },
  {
   "cell_type": "code",
   "execution_count": 29,
   "id": "b4aca342",
   "metadata": {},
   "outputs": [
    {
     "name": "stdout",
     "output_type": "stream",
     "text": [
      "Sample User\n"
     ]
    }
   ],
   "source": [
    "print(sample.g)"
   ]
  },
  {
   "cell_type": "code",
   "execution_count": 1,
   "id": "47bd8542",
   "metadata": {},
   "outputs": [],
   "source": [
    "import sample"
   ]
  },
  {
   "cell_type": "code",
   "execution_count": 2,
   "id": "e381309c",
   "metadata": {},
   "outputs": [
    {
     "name": "stdout",
     "output_type": "stream",
     "text": [
      "['__builtins__', '__cached__', '__doc__', '__file__', '__loader__', '__name__', '__package__', '__spec__', 'g', 'student']\n"
     ]
    }
   ],
   "source": [
    "print(dir(sample))"
   ]
  },
  {
   "cell_type": "code",
   "execution_count": 3,
   "id": "cfee7328",
   "metadata": {},
   "outputs": [
    {
     "name": "stdout",
     "output_type": "stream",
     "text": [
      "\n",
      "    GIST Student Data\n",
      "    \n"
     ]
    }
   ],
   "source": [
    "print(sample.student.__doc__)"
   ]
  },
  {
   "cell_type": "code",
   "execution_count": 6,
   "id": "8aa32dd9",
   "metadata": {},
   "outputs": [
    {
     "name": "stdout",
     "output_type": "stream",
     "text": [
      "Enter Student Name: Prasad\n",
      "Student Id: 456452\n",
      "Student Name: Prasad\n",
      "Student Id: 456452\n"
     ]
    }
   ],
   "source": [
    "sample.student()"
   ]
  },
  {
   "cell_type": "code",
   "execution_count": 1,
   "id": "49e66a76",
   "metadata": {},
   "outputs": [],
   "source": [
    "from Demo import college"
   ]
  },
  {
   "cell_type": "code",
   "execution_count": 2,
   "id": "8d9af602",
   "metadata": {},
   "outputs": [
    {
     "name": "stdout",
     "output_type": "stream",
     "text": [
      "['__builtins__', '__cached__', '__doc__', '__file__', '__loader__', '__name__', '__package__', '__spec__', 'dep', 'z']\n"
     ]
    }
   ],
   "source": [
    "print(dir(college))"
   ]
  },
  {
   "cell_type": "code",
   "execution_count": 3,
   "id": "8840d561",
   "metadata": {},
   "outputs": [
    {
     "name": "stdout",
     "output_type": "stream",
     "text": [
      "sai rohith\n"
     ]
    }
   ],
   "source": [
    "print(college.z)"
   ]
  },
  {
   "cell_type": "code",
   "execution_count": 5,
   "id": "d0b09cd0",
   "metadata": {},
   "outputs": [
    {
     "name": "stdout",
     "output_type": "stream",
     "text": [
      "Collge Departments\n",
      "1.CSE\n",
      "2.AIML\n",
      "3.EEE\n",
      "4.ECE\n"
     ]
    }
   ],
   "source": [
    "college.dep()"
   ]
  },
  {
   "cell_type": "code",
   "execution_count": null,
   "id": "5a56a1a6",
   "metadata": {},
   "outputs": [],
   "source": []
  }
 ],
 "metadata": {
  "kernelspec": {
   "display_name": "Python 3 (ipykernel)",
   "language": "python",
   "name": "python3"
  },
  "language_info": {
   "codemirror_mode": {
    "name": "ipython",
    "version": 3
   },
   "file_extension": ".py",
   "mimetype": "text/x-python",
   "name": "python",
   "nbconvert_exporter": "python",
   "pygments_lexer": "ipython3",
   "version": "3.9.13"
  }
 },
 "nbformat": 4,
 "nbformat_minor": 5
}
